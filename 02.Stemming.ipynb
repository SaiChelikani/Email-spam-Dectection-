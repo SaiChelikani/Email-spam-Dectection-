{
 "cells": [
  {
   "cell_type": "code",
   "execution_count": 1,
   "metadata": {},
   "outputs": [],
   "source": [
    "import nltk"
   ]
  },
  {
   "cell_type": "code",
   "execution_count": 4,
   "metadata": {},
   "outputs": [],
   "source": [
    "from nltk.stem import PorterStemmer\n",
    "from nltk.corpus import stopwords "
   ]
  },
  {
   "cell_type": "code",
   "execution_count": 5,
   "metadata": {},
   "outputs": [],
   "source": [
    "text='''Emanuel Moravec (17 April 1893 – 5 May 1945) was a Czech army officer and writer who served as the collaborationist Minister of Education of the Protectorate of Bohemia and Moravia between 1942 and 1945. He was also chair of the Board of Trustees for the Education of Youth, a fascist youth organisation in the protectorate.\n",
    "\n",
    "In World War I, Moravec served in the Austro-Hungarian Army, but following capture by the Russians he changed sides to join Russian-backed Serbian forces and then the Czechoslovak Legion, which went on to fight on the side of the White Russians in the Russian Civil War. During the interwar period he commanded an infantry battalion in the Czechoslovak Army. As a proponent of democracy during the 1930s, Moravec was outspoken in his warnings about the expansionist plans of Germany under Adolf Hitler and appealed for armed action rather than capitulation to German demands for the Sudetenland. In the aftermath of the German occupation of the rump Czechoslovakia, he became an enthusiastic collaborator, realigning his political worldview towards fascism. He committed suicide in the final days of World War II.\n",
    "\n",
    "Unlike some other officials of the short-lived protectorate government, whose reputations were rehabilitated in whole or in part after the war, Moravec's good reputation did not survive his tenure in office and he has been widely derided as a \"Czech Quisling'''"
   ]
  },
  {
   "cell_type": "code",
   "execution_count": 49,
   "metadata": {},
   "outputs": [],
   "source": [
    "sent=nltk.sent_tokenize(text)\n"
   ]
  },
  {
   "cell_type": "code",
   "execution_count": 48,
   "metadata": {},
   "outputs": [],
   "source": [
    "stemmer= PorterStemmer()"
   ]
  },
  {
   "cell_type": "code",
   "execution_count": 44,
   "metadata": {},
   "outputs": [],
   "source": [
    "for i in range(len(sent)):\n",
    "    words= nltk.word_tokenize(sent[i])\n",
    "    words= [stemmer.stem(word) for word in words if word not in set(stopwords.words('english'))]\n",
    "    sent[i]=' '.join(words)\n",
    "    "
   ]
  },
  {
   "cell_type": "code",
   "execution_count": 45,
   "metadata": {},
   "outputs": [
    {
     "data": {
      "text/plain": [
       "['emanuel moravec ( 17 april 1893 – 5 may 1945 ) czech armi offic writer serv collaborationist minist educ protector bohemia moravia 1942 1945 .',\n",
       " 'He also chair board truste educ youth , fascist youth organis protector .',\n",
       " 'In world war I , moravec serv austro-hungarian armi , follow captur russian chang side join russian-back serbian forc czechoslovak legion , went fight side white russian russian civil war .',\n",
       " 'dure interwar period command infantri battalion czechoslovak armi .',\n",
       " 'As propon democraci 1930 , moravec outspoken warn expansionist plan germani adolf hitler appeal arm action rather capitul german demand sudetenland .',\n",
       " 'In aftermath german occup rump czechoslovakia , becam enthusiast collabor , realign polit worldview toward fascism .',\n",
       " 'He commit suicid final day world war II .',\n",
       " \"unlik offici short-liv protector govern , whose reput rehabilit whole part war , moravec 's good reput surviv tenur offic wide derid `` czech quisl\"]"
      ]
     },
     "execution_count": 45,
     "metadata": {},
     "output_type": "execute_result"
    }
   ],
   "source": [
    "sent"
   ]
  },
  {
   "cell_type": "code",
   "execution_count": 39,
   "metadata": {},
   "outputs": [
    {
     "name": "stdout",
     "output_type": "stream",
     "text": [
      "Unlike\n",
      "some\n",
      "other\n",
      "officials\n",
      "of\n",
      "the\n",
      "short-lived\n",
      "protectorate\n",
      "government\n",
      ",\n",
      "whose\n",
      "reputations\n",
      "were\n",
      "rehabilitated\n",
      "in\n",
      "whole\n",
      "or\n",
      "in\n",
      "part\n",
      "after\n",
      "the\n",
      "war\n",
      ",\n",
      "Moravec\n",
      "'s\n",
      "good\n",
      "reputation\n",
      "did\n",
      "not\n",
      "survive\n",
      "his\n",
      "tenure\n",
      "in\n",
      "office\n",
      "and\n",
      "he\n",
      "has\n",
      "been\n",
      "widely\n",
      "derided\n",
      "as\n",
      "a\n",
      "``\n",
      "Czech\n",
      "Quisling\n"
     ]
    }
   ],
   "source": [
    "for i in words:\n",
    "    print(i)\n",
    "    #stemmer.stem(i)"
   ]
  },
  {
   "cell_type": "code",
   "execution_count": 42,
   "metadata": {},
   "outputs": [
    {
     "data": {
      "text/plain": [
       "'derid'"
      ]
     },
     "execution_count": 42,
     "metadata": {},
     "output_type": "execute_result"
    }
   ],
   "source": [
    "stemmer.stem('derided')"
   ]
  },
  {
   "cell_type": "code",
   "execution_count": null,
   "metadata": {},
   "outputs": [],
   "source": []
  }
 ],
 "metadata": {
  "kernelspec": {
   "display_name": "Python 3",
   "language": "python",
   "name": "python3"
  },
  "language_info": {
   "codemirror_mode": {
    "name": "ipython",
    "version": 3
   },
   "file_extension": ".py",
   "mimetype": "text/x-python",
   "name": "python",
   "nbconvert_exporter": "python",
   "pygments_lexer": "ipython3",
   "version": "3.7.3"
  }
 },
 "nbformat": 4,
 "nbformat_minor": 2
}
