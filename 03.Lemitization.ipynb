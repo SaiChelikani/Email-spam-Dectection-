{
 "cells": [
  {
   "cell_type": "code",
   "execution_count": 1,
   "metadata": {},
   "outputs": [],
   "source": [
    "import nltk"
   ]
  },
  {
   "cell_type": "code",
   "execution_count": 2,
   "metadata": {},
   "outputs": [],
   "source": [
    "from nltk.stem import PorterStemmer\n",
    "from nltk.corpus import stopwords\n",
    "from nltk.stem import WordNetLemmatizer"
   ]
  },
  {
   "cell_type": "code",
   "execution_count": 3,
   "metadata": {},
   "outputs": [],
   "source": [
    "text='''Emanuel Moravec (17 April 1893 – 5 May 1945) was a Czech army officer and writer who served as the collaborationist Minister of Education of the Protectorate of Bohemia and Moravia between 1942 and 1945. He was also chair of the Board of Trustees for the Education of Youth, a fascist youth organisation in the protectorate.\n",
    "\n",
    "In World War I, Moravec served in the Austro-Hungarian Army, but following capture by the Russians he changed sides to join Russian-backed Serbian forces and then the Czechoslovak Legion, which went on to fight on the side of the White Russians in the Russian Civil War. During the interwar period he commanded an infantry battalion in the Czechoslovak Army. As a proponent of democracy during the 1930s, Moravec was outspoken in his warnings about the expansionist plans of Germany under Adolf Hitler and appealed for armed action rather than capitulation to German demands for the Sudetenland. In the aftermath of the German occupation of the rump Czechoslovakia, he became an enthusiastic collaborator, realigning his political worldview towards fascism. He committed suicide in the final days of World War II.\n",
    "\n",
    "Unlike some other officials of the short-lived protectorate government, whose reputations were rehabilitated in whole or in part after the war, Moravec's good reputation did not survive his tenure in office and he has been widely derided as a \"Czech Quisling\".'''"
   ]
  },
  {
   "cell_type": "code",
   "execution_count": 4,
   "metadata": {},
   "outputs": [
    {
     "data": {
      "text/plain": [
       "8"
      ]
     },
     "execution_count": 4,
     "metadata": {},
     "output_type": "execute_result"
    }
   ],
   "source": [
    "sentence=nltk.sent_tokenize(text)\n",
    "len(sentence)"
   ]
  },
  {
   "cell_type": "code",
   "execution_count": 5,
   "metadata": {},
   "outputs": [],
   "source": [
    "stemmer= PorterStemmer()"
   ]
  },
  {
   "cell_type": "code",
   "execution_count": 8,
   "metadata": {},
   "outputs": [],
   "source": [
    "for i in range(len(sentence)):\n",
    "    words=nltk.word_tokenize(sentence[i])\n",
    "    words=[lemmatizer.lemmatize(word) for word in words if word not in set(stopwords.words('english'))]\n",
    "    sentence[i]=' '.join(words)"
   ]
  },
  {
   "cell_type": "code",
   "execution_count": 7,
   "metadata": {},
   "outputs": [],
   "source": [
    "lemmatizer= WordNetLemmatizer()"
   ]
  },
  {
   "cell_type": "code",
   "execution_count": 9,
   "metadata": {},
   "outputs": [
    {
     "data": {
      "text/plain": [
       "['Emanuel Moravec ( 17 April 1893 – 5 May 1945 ) Czech army officer writer served collaborationist Minister Education Protectorate Bohemia Moravia 1942 1945 .',\n",
       " 'He also chair Board Trustees Education Youth , fascist youth organisation protectorate .',\n",
       " 'In World War I , Moravec served Austro-Hungarian Army , following capture Russians changed side join Russian-backed Serbian force Czechoslovak Legion , went fight side White Russians Russian Civil War .',\n",
       " 'During interwar period commanded infantry battalion Czechoslovak Army .',\n",
       " 'As proponent democracy 1930s , Moravec outspoken warning expansionist plan Germany Adolf Hitler appealed armed action rather capitulation German demand Sudetenland .',\n",
       " 'In aftermath German occupation rump Czechoslovakia , became enthusiastic collaborator , realigning political worldview towards fascism .',\n",
       " 'He committed suicide final day World War II .',\n",
       " \"Unlike official short-lived protectorate government , whose reputation rehabilitated whole part war , Moravec 's good reputation survive tenure office widely derided `` Czech Quisling '' .\"]"
      ]
     },
     "execution_count": 9,
     "metadata": {},
     "output_type": "execute_result"
    }
   ],
   "source": [
    "sentence"
   ]
  },
  {
   "cell_type": "code",
   "execution_count": null,
   "metadata": {},
   "outputs": [],
   "source": []
  }
 ],
 "metadata": {
  "kernelspec": {
   "display_name": "Python 3",
   "language": "python",
   "name": "python3"
  },
  "language_info": {
   "codemirror_mode": {
    "name": "ipython",
    "version": 3
   },
   "file_extension": ".py",
   "mimetype": "text/x-python",
   "name": "python",
   "nbconvert_exporter": "python",
   "pygments_lexer": "ipython3",
   "version": "3.7.3"
  }
 },
 "nbformat": 4,
 "nbformat_minor": 2
}
