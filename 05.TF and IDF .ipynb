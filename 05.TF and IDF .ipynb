{
 "cells": [
  {
   "cell_type": "code",
   "execution_count": 6,
   "metadata": {},
   "outputs": [],
   "source": [
    "import nltk\n",
    "from nltk.stem import WordNetLemmatizer\n",
    "from nltk.corpus import stopwords"
   ]
  },
  {
   "cell_type": "code",
   "execution_count": 7,
   "metadata": {},
   "outputs": [],
   "source": [
    "text='''Emanuel Moravec (17 April 1893 – 5 May 1945) was a Czech army officer and writer who served as the collaborationist Minister of Education of the Protectorate of Bohemia and Moravia between 1942 and 1945. He was also chair of the Board of Trustees for the Education of Youth, a fascist youth organisation in the protectorate.\n",
    "\n",
    "In World War I, Moravec served in the Austro-Hungarian Army, but following capture by the Russians he changed sides to join Russian-backed Serbian forces and then the Czechoslovak Legion, which went on to fight on the side of the White Russians in the Russian Civil War. During the interwar period he commanded an infantry battalion in the Czechoslovak Army. As a proponent of democracy during the 1930s, Moravec was outspoken in his warnings about the expansionist plans of Germany under Adolf Hitler and appealed for armed action rather than capitulation to German demands for the Sudetenland. In the aftermath of the German occupation of the rump Czechoslovakia, he became an enthusiastic collaborator, realigning his political worldview towards fascism. He committed suicide in the final days of World War II.\n",
    "\n",
    "Unlike some other officials of the short-lived protectorate government, whose reputations were rehabilitated in whole or in part after the war, Moravec's good reputation did not survive his tenure in office and he has been widely derided as a \"Czech Quisling\".'''"
   ]
  },
  {
   "cell_type": "code",
   "execution_count": 8,
   "metadata": {},
   "outputs": [],
   "source": [
    "sentence=nltk.sent_tokenize(text)"
   ]
  },
  {
   "cell_type": "code",
   "execution_count": 10,
   "metadata": {},
   "outputs": [],
   "source": [
    "wordnet=WordNetLemmatizer()"
   ]
  },
  {
   "cell_type": "code",
   "execution_count": 11,
   "metadata": {},
   "outputs": [],
   "source": [
    "import re"
   ]
  },
  {
   "cell_type": "code",
   "execution_count": 13,
   "metadata": {},
   "outputs": [],
   "source": [
    "corpus=[]\n",
    "for i in range(len(sentence)):\n",
    "    review=re.sub('[^a-zA-Z]',' ',sentence[i])\n",
    "    review=review.lower()\n",
    "    review=review.split()\n",
    "    review=[wordnet.lemmatize(word) for word in review if word not in set(stopwords.words('english'))]\n",
    "    review=' '.join(review)\n",
    "    corpus.append(review)"
   ]
  },
  {
   "cell_type": "code",
   "execution_count": 14,
   "metadata": {},
   "outputs": [
    {
     "data": {
      "text/plain": [
       "['emanuel moravec april may czech army officer writer served collaborationist minister education protectorate bohemia moravia',\n",
       " 'also chair board trustee education youth fascist youth organisation protectorate',\n",
       " 'world war moravec served austro hungarian army following capture russian changed side join russian backed serbian force czechoslovak legion went fight side white russian russian civil war',\n",
       " 'interwar period commanded infantry battalion czechoslovak army',\n",
       " 'proponent democracy moravec outspoken warning expansionist plan germany adolf hitler appealed armed action rather capitulation german demand sudetenland',\n",
       " 'aftermath german occupation rump czechoslovakia became enthusiastic collaborator realigning political worldview towards fascism',\n",
       " 'committed suicide final day world war ii',\n",
       " 'unlike official short lived protectorate government whose reputation rehabilitated whole part war moravec good reputation survive tenure office widely derided czech quisling']"
      ]
     },
     "execution_count": 14,
     "metadata": {},
     "output_type": "execute_result"
    }
   ],
   "source": [
    "corpus"
   ]
  },
  {
   "cell_type": "markdown",
   "metadata": {},
   "source": [
    "# Creating the TF-IDF model"
   ]
  },
  {
   "cell_type": "code",
   "execution_count": 16,
   "metadata": {},
   "outputs": [],
   "source": [
    "import sklearn"
   ]
  },
  {
   "cell_type": "code",
   "execution_count": 17,
   "metadata": {},
   "outputs": [],
   "source": [
    "from sklearn.feature_extraction.text import TfidfVectorizer\n",
    "cv=TfidfVectorizer()\n",
    "X=cv.fit_transform(corpus).toarray()"
   ]
  },
  {
   "cell_type": "code",
   "execution_count": 18,
   "metadata": {},
   "outputs": [
    {
     "data": {
      "text/plain": [
       "array([[0.        , 0.        , 0.        , 0.        , 0.        ,\n",
       "        0.28222028, 0.        , 0.20409962, 0.        , 0.        ,\n",
       "        0.        , 0.        , 0.        , 0.28222028, 0.        ,\n",
       "        0.        , 0.        , 0.        , 0.        , 0.28222028,\n",
       "        0.        , 0.        , 0.        , 0.23652262, 0.        ,\n",
       "        0.        , 0.        , 0.        , 0.        , 0.        ,\n",
       "        0.23652262, 0.28222028, 0.        , 0.        , 0.        ,\n",
       "        0.        , 0.        , 0.        , 0.        , 0.        ,\n",
       "        0.        , 0.        , 0.        , 0.        , 0.        ,\n",
       "        0.        , 0.        , 0.        , 0.        , 0.        ,\n",
       "        0.        , 0.        , 0.28222028, 0.28222028, 0.17895038,\n",
       "        0.28222028, 0.        , 0.        , 0.28222028, 0.        ,\n",
       "        0.        , 0.        , 0.        , 0.        , 0.        ,\n",
       "        0.        , 0.        , 0.20409962, 0.        , 0.        ,\n",
       "        0.        , 0.        , 0.        , 0.        , 0.        ,\n",
       "        0.        , 0.23652262, 0.        , 0.        , 0.        ,\n",
       "        0.        , 0.        , 0.        , 0.        , 0.        ,\n",
       "        0.        , 0.        , 0.        , 0.        , 0.        ,\n",
       "        0.        , 0.        , 0.        , 0.        , 0.        ,\n",
       "        0.28222028, 0.        ],\n",
       "       [0.        , 0.        , 0.        , 0.29846914, 0.        ,\n",
       "        0.        , 0.        , 0.        , 0.        , 0.        ,\n",
       "        0.        , 0.        , 0.29846914, 0.        , 0.        ,\n",
       "        0.        , 0.29846914, 0.        , 0.        , 0.        ,\n",
       "        0.        , 0.        , 0.        , 0.        , 0.        ,\n",
       "        0.        , 0.        , 0.        , 0.        , 0.        ,\n",
       "        0.25014043, 0.        , 0.        , 0.        , 0.        ,\n",
       "        0.29846914, 0.        , 0.        , 0.        , 0.        ,\n",
       "        0.        , 0.        , 0.        , 0.        , 0.        ,\n",
       "        0.        , 0.        , 0.        , 0.        , 0.        ,\n",
       "        0.        , 0.        , 0.        , 0.        , 0.        ,\n",
       "        0.        , 0.        , 0.        , 0.        , 0.        ,\n",
       "        0.29846914, 0.        , 0.        , 0.        , 0.        ,\n",
       "        0.        , 0.        , 0.21585067, 0.        , 0.        ,\n",
       "        0.        , 0.        , 0.        , 0.        , 0.        ,\n",
       "        0.        , 0.        , 0.        , 0.        , 0.        ,\n",
       "        0.        , 0.        , 0.        , 0.        , 0.29846914,\n",
       "        0.        , 0.        , 0.        , 0.        , 0.        ,\n",
       "        0.        , 0.        , 0.        , 0.        , 0.        ,\n",
       "        0.        , 0.59693827],\n",
       "       [0.        , 0.        , 0.        , 0.        , 0.        ,\n",
       "        0.        , 0.        , 0.11561951, 0.15987375, 0.15987375,\n",
       "        0.        , 0.        , 0.        , 0.        , 0.        ,\n",
       "        0.15987375, 0.        , 0.15987375, 0.15987375, 0.        ,\n",
       "        0.        , 0.        , 0.        , 0.        , 0.13398668,\n",
       "        0.        , 0.        , 0.        , 0.        , 0.        ,\n",
       "        0.        , 0.        , 0.        , 0.        , 0.        ,\n",
       "        0.        , 0.15987375, 0.        , 0.15987375, 0.15987375,\n",
       "        0.        , 0.        , 0.        , 0.        , 0.        ,\n",
       "        0.15987375, 0.        , 0.        , 0.        , 0.15987375,\n",
       "        0.15987375, 0.        , 0.        , 0.        , 0.10137283,\n",
       "        0.        , 0.        , 0.        , 0.        , 0.        ,\n",
       "        0.        , 0.        , 0.        , 0.        , 0.        ,\n",
       "        0.        , 0.        , 0.        , 0.        , 0.        ,\n",
       "        0.        , 0.        , 0.        , 0.        , 0.63949499,\n",
       "        0.15987375, 0.13398668, 0.        , 0.31974749, 0.        ,\n",
       "        0.        , 0.        , 0.        , 0.        , 0.        ,\n",
       "        0.        , 0.23123902, 0.        , 0.15987375, 0.15987375,\n",
       "        0.        , 0.        , 0.        , 0.13398668, 0.        ,\n",
       "        0.        , 0.        ],\n",
       "       [0.        , 0.        , 0.        , 0.        , 0.        ,\n",
       "        0.        , 0.        , 0.28984843, 0.        , 0.        ,\n",
       "        0.4007901 , 0.        , 0.        , 0.        , 0.        ,\n",
       "        0.        , 0.        , 0.        , 0.        , 0.        ,\n",
       "        0.        , 0.4007901 , 0.        , 0.        , 0.33589338,\n",
       "        0.        , 0.        , 0.        , 0.        , 0.        ,\n",
       "        0.        , 0.        , 0.        , 0.        , 0.        ,\n",
       "        0.        , 0.        , 0.        , 0.        , 0.        ,\n",
       "        0.        , 0.        , 0.        , 0.        , 0.        ,\n",
       "        0.        , 0.        , 0.4007901 , 0.4007901 , 0.        ,\n",
       "        0.        , 0.        , 0.        , 0.        , 0.        ,\n",
       "        0.        , 0.        , 0.        , 0.        , 0.        ,\n",
       "        0.        , 0.        , 0.        , 0.4007901 , 0.        ,\n",
       "        0.        , 0.        , 0.        , 0.        , 0.        ,\n",
       "        0.        , 0.        , 0.        , 0.        , 0.        ,\n",
       "        0.        , 0.        , 0.        , 0.        , 0.        ,\n",
       "        0.        , 0.        , 0.        , 0.        , 0.        ,\n",
       "        0.        , 0.        , 0.        , 0.        , 0.        ,\n",
       "        0.        , 0.        , 0.        , 0.        , 0.        ,\n",
       "        0.        , 0.        ],\n",
       "       [0.24179408, 0.24179408, 0.        , 0.        , 0.24179408,\n",
       "        0.        , 0.24179408, 0.        , 0.        , 0.        ,\n",
       "        0.        , 0.        , 0.        , 0.        , 0.24179408,\n",
       "        0.        , 0.        , 0.        , 0.        , 0.        ,\n",
       "        0.        , 0.        , 0.        , 0.        , 0.        ,\n",
       "        0.        , 0.        , 0.24179408, 0.24179408, 0.        ,\n",
       "        0.        , 0.        , 0.        , 0.24179408, 0.        ,\n",
       "        0.        , 0.        , 0.        , 0.        , 0.        ,\n",
       "        0.20264231, 0.24179408, 0.        , 0.        , 0.24179408,\n",
       "        0.        , 0.        , 0.        , 0.        , 0.        ,\n",
       "        0.        , 0.        , 0.        , 0.        , 0.15331691,\n",
       "        0.        , 0.        , 0.        , 0.        , 0.        ,\n",
       "        0.        , 0.24179408, 0.        , 0.        , 0.24179408,\n",
       "        0.        , 0.24179408, 0.        , 0.        , 0.24179408,\n",
       "        0.        , 0.        , 0.        , 0.        , 0.        ,\n",
       "        0.        , 0.        , 0.        , 0.        , 0.24179408,\n",
       "        0.        , 0.        , 0.        , 0.        , 0.        ,\n",
       "        0.        , 0.        , 0.24179408, 0.        , 0.        ,\n",
       "        0.        , 0.        , 0.        , 0.        , 0.        ,\n",
       "        0.        , 0.        ],\n",
       "       [0.        , 0.        , 0.28058053, 0.        , 0.        ,\n",
       "        0.        , 0.        , 0.        , 0.        , 0.        ,\n",
       "        0.        , 0.28058053, 0.        , 0.        , 0.        ,\n",
       "        0.        , 0.        , 0.        , 0.        , 0.        ,\n",
       "        0.28058053, 0.        , 0.        , 0.        , 0.        ,\n",
       "        0.28058053, 0.        , 0.        , 0.        , 0.        ,\n",
       "        0.        , 0.        , 0.28058053, 0.        , 0.28058053,\n",
       "        0.        , 0.        , 0.        , 0.        , 0.        ,\n",
       "        0.23514839, 0.        , 0.        , 0.        , 0.        ,\n",
       "        0.        , 0.        , 0.        , 0.        , 0.        ,\n",
       "        0.        , 0.        , 0.        , 0.        , 0.        ,\n",
       "        0.        , 0.28058053, 0.        , 0.        , 0.        ,\n",
       "        0.        , 0.        , 0.        , 0.        , 0.        ,\n",
       "        0.28058053, 0.        , 0.        , 0.        , 0.        ,\n",
       "        0.28058053, 0.        , 0.        , 0.28058053, 0.        ,\n",
       "        0.        , 0.        , 0.        , 0.        , 0.        ,\n",
       "        0.        , 0.        , 0.        , 0.28058053, 0.        ,\n",
       "        0.        , 0.        , 0.        , 0.        , 0.        ,\n",
       "        0.        , 0.        , 0.        , 0.        , 0.28058053,\n",
       "        0.        , 0.        ],\n",
       "       [0.        , 0.        , 0.        , 0.        , 0.        ,\n",
       "        0.        , 0.        , 0.        , 0.        , 0.        ,\n",
       "        0.        , 0.        , 0.        , 0.        , 0.        ,\n",
       "        0.        , 0.        , 0.        , 0.        , 0.        ,\n",
       "        0.        , 0.        , 0.4007901 , 0.        , 0.        ,\n",
       "        0.        , 0.4007901 , 0.        , 0.        , 0.        ,\n",
       "        0.        , 0.        , 0.        , 0.        , 0.        ,\n",
       "        0.        , 0.        , 0.4007901 , 0.        , 0.        ,\n",
       "        0.        , 0.        , 0.        , 0.        , 0.        ,\n",
       "        0.        , 0.4007901 , 0.        , 0.        , 0.        ,\n",
       "        0.        , 0.        , 0.        , 0.        , 0.        ,\n",
       "        0.        , 0.        , 0.        , 0.        , 0.        ,\n",
       "        0.        , 0.        , 0.        , 0.        , 0.        ,\n",
       "        0.        , 0.        , 0.        , 0.        , 0.        ,\n",
       "        0.        , 0.        , 0.        , 0.        , 0.        ,\n",
       "        0.        , 0.        , 0.        , 0.        , 0.        ,\n",
       "        0.4007901 , 0.        , 0.        , 0.        , 0.        ,\n",
       "        0.        , 0.28984843, 0.        , 0.        , 0.        ,\n",
       "        0.        , 0.        , 0.        , 0.33589338, 0.        ,\n",
       "        0.        , 0.        ],\n",
       "       [0.        , 0.        , 0.        , 0.        , 0.        ,\n",
       "        0.        , 0.        , 0.        , 0.        , 0.        ,\n",
       "        0.        , 0.        , 0.        , 0.        , 0.        ,\n",
       "        0.        , 0.        , 0.        , 0.        , 0.        ,\n",
       "        0.        , 0.        , 0.        , 0.178071  , 0.        ,\n",
       "        0.        , 0.        , 0.        , 0.        , 0.21247544,\n",
       "        0.        , 0.        , 0.        , 0.        , 0.        ,\n",
       "        0.        , 0.        , 0.        , 0.        , 0.        ,\n",
       "        0.        , 0.        , 0.21247544, 0.21247544, 0.        ,\n",
       "        0.        , 0.        , 0.        , 0.        , 0.        ,\n",
       "        0.        , 0.21247544, 0.        , 0.        , 0.13472654,\n",
       "        0.        , 0.        , 0.21247544, 0.        , 0.21247544,\n",
       "        0.        , 0.        , 0.21247544, 0.        , 0.        ,\n",
       "        0.        , 0.        , 0.15366067, 0.21247544, 0.        ,\n",
       "        0.        , 0.21247544, 0.42495089, 0.        , 0.        ,\n",
       "        0.        , 0.        , 0.21247544, 0.        , 0.        ,\n",
       "        0.        , 0.21247544, 0.21247544, 0.        , 0.        ,\n",
       "        0.21247544, 0.15366067, 0.        , 0.        , 0.        ,\n",
       "        0.21247544, 0.21247544, 0.21247544, 0.        , 0.        ,\n",
       "        0.        , 0.        ]])"
      ]
     },
     "execution_count": 18,
     "metadata": {},
     "output_type": "execute_result"
    }
   ],
   "source": [
    "X"
   ]
  },
  {
   "cell_type": "code",
   "execution_count": null,
   "metadata": {},
   "outputs": [],
   "source": []
  }
 ],
 "metadata": {
  "kernelspec": {
   "display_name": "Python 3",
   "language": "python",
   "name": "python3"
  },
  "language_info": {
   "codemirror_mode": {
    "name": "ipython",
    "version": 3
   },
   "file_extension": ".py",
   "mimetype": "text/x-python",
   "name": "python",
   "nbconvert_exporter": "python",
   "pygments_lexer": "ipython3",
   "version": "3.7.3"
  }
 },
 "nbformat": 4,
 "nbformat_minor": 2
}
