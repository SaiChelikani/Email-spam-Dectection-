{
 "cells": [
  {
   "cell_type": "code",
   "execution_count": 3,
   "metadata": {},
   "outputs": [],
   "source": [
    "import nltk \n",
    "import re"
   ]
  },
  {
   "cell_type": "code",
   "execution_count": 4,
   "metadata": {},
   "outputs": [],
   "source": [
    "from gensim.models import Word2Vec # converting into vecotrs\n",
    "\n",
    "from nltk.corpus import stopwords"
   ]
  },
  {
   "cell_type": "code",
   "execution_count": 5,
   "metadata": {},
   "outputs": [],
   "source": [
    "paragraph = \"\"\"I have three visions for India. In 3000 years of our history, people from all over \n",
    "               the world have come and invaded us, captured our lands, conquered our minds. \n",
    "               From Alexander onwards, the Greeks, the Turks, the Moguls, the Portuguese, the British,\n",
    "               the French, the Dutch, all of them came and looted us, took over what was ours. \n",
    "               Yet we have not done this to any other nation. We have not conquered anyone. \n",
    "               We have not grabbed their land, their culture, \n",
    "               their history and tried to enforce our way of life on them. \n",
    "               Why? Because we respect the freedom of others.That is why my \n",
    "               first vision is that of freedom. I believe that India got its first vision of \n",
    "               this in 1857, when we started the War of Independence. It is this freedom that\n",
    "               we must protect and nurture and build on. If we are not free, no one will respect us.\n",
    "               My second vision for India’s development. For fifty years we have been a developing nation.\n",
    "               It is time we see ourselves as a developed nation. We are among the top 5 nations of the world\n",
    "               in terms of GDP. We have a 10 percent growth rate in most areas. Our poverty levels are falling.\n",
    "               Our achievements are being globally recognised today. Yet we lack the self-confidence to\n",
    "               see ourselves as a developed nation, self-reliant and self-assured. Isn’t this incorrect?\n",
    "               I have a third vision. India must stand up to the world. Because I believe that unless India \n",
    "               stands up to the world, no one will respect us. Only strength respects strength. We must be \n",
    "               strong not only as a military power but also as an economic power. Both must go hand-in-hand. \n",
    "               My good fortune was to have worked with three great minds. Dr. Vikram Sarabhai of the Dept. of \n",
    "               space, Professor Satish Dhawan, who succeeded him and Dr. Brahm Prakash, father of nuclear material.\n",
    "               I was lucky to have worked with all three of them closely and consider this the great opportunity of my life. \n",
    "               I see four milestones in my career\"\"\""
   ]
  },
  {
   "cell_type": "code",
   "execution_count": 14,
   "metadata": {},
   "outputs": [
    {
     "data": {
      "text/plain": [
       "'I have three visions for India. In 3000 years of our history, people from all over \\n               the world have come and invaded us, captured our lands, conquered our minds. \\n               From Alexander onwards, the Greeks, the Turks, the Moguls, the Portuguese, the British,\\n               the French, the Dutch, all of them came and looted us, took over what was ours. \\n               Yet we have not done this to any other nation. We have not conquered anyone. \\n               We have not grabbed their land, their culture, \\n               their history and tried to enforce our way of life on them. \\n               Why? Because we respect the freedom of others.That is why my \\n               first vision is that of freedom. I believe that India got its first vision of \\n               this in 1857, when we started the War of Independence. It is this freedom that\\n               we must protect and nurture and build on. If we are not free, no one will respect us.\\n               My second vision for India’s development. For fifty years we have been a developing nation.\\n               It is time we see ourselves as a developed nation. We are among the top 5 nations of the world\\n               in terms of GDP. We have a 10 percent growth rate in most areas. Our poverty levels are falling.\\n               Our achievements are being globally recognised today. Yet we lack the self-confidence to\\n               see ourselves as a developed nation, self-reliant and self-assured. Isn’t this incorrect?\\n               I have a third vision. India must stand up to the world. Because I believe that unless India \\n               stands up to the world, no one will respect us. Only strength respects strength. We must be \\n               strong not only as a military power but also as an economic power. Both must go hand-in-hand. \\n               My good fortune was to have worked with three great minds. Dr. Vikram Sarabhai of the Dept. of \\n               space, Professor Satish Dhawan, who succeeded him and Dr. Brahm Prakash, father of nuclear material.\\n               I was lucky to have worked with all three of them closely and consider this the great opportunity of my life. \\n               I see four milestones in my career'"
      ]
     },
     "execution_count": 14,
     "metadata": {},
     "output_type": "execute_result"
    }
   ],
   "source": [
    "paragraph"
   ]
  },
  {
   "cell_type": "code",
   "execution_count": 23,
   "metadata": {},
   "outputs": [
    {
     "name": "stdout",
     "output_type": "stream",
     "text": [
      "I have three visions for India. In 3000 years of our history, people from all over \n",
      "               the world have come and invaded us, captured our lands, conquered our minds. \n",
      "               From Alexander onwards, the Greeks, the Turks, the Moguls, the Portuguese, the British,\n",
      "               the French, the Dutch, all of them came and looted us, took over what was ours. \n",
      "               Yet we have not done this to any other nation. We have not conquered anyone. \n",
      "               We have not grabbed their land, their culture, \n",
      "               their history and tried to enforce our way of life on them. \n",
      "               Why? Because we respect the freedom of others.That is why my \n",
      "               first vision is that of freedom. I believe that India got its first vision of \n",
      "               this in 1857, when we started the War of Independence. It is this freedom that\n",
      "               we must protect and nurture and build on. If we are not free, no one will respect us.\n",
      "               My second vision for India’s development. For fifty years we have been a developing nation.\n",
      "               It is time we see ourselves as a developed nation. We are among the top 5 nations of the world\n",
      "               in terms of GDP. We have a 10 percent growth rate in most areas. Our poverty levels are falling.\n",
      "               Our achievements are being globally recognised today. Yet we lack the self-confidence to\n",
      "               see ourselves as a developed nation, self-reliant and self-assured. Isn’t this incorrect?\n",
      "               I have a third vision. India must stand up to the world. Because I believe that unless India \n",
      "               stands up to the world, no one will respect us. Only strength respects strength. We must be \n",
      "               strong not only as a military power but also as an economic power. Both must go hand-in-hand. \n",
      "               My good fortune was to have worked with three great minds. Dr. Vikram Sarabhai of the Dept. of \n",
      "               space, Professor Satish Dhawan, who succeeded him and Dr. Brahm Prakash, father of nuclear material.\n",
      "               I was lucky to have worked with all three of them closely and consider this the great opportunity of my life. \n",
      "               I see four milestones in my career\n",
      "I have three visions for India. In 3000 years of our history, people from all over the world have come and invaded us, captured our lands, conquered our minds. From Alexander onwards, the Greeks, the Turks, the Moguls, the Portuguese, the British, the French, the Dutch, all of them came and looted us, took over what was ours. Yet we have not done this to any other nation. We have not conquered anyone. We have not grabbed their land, their culture, their history and tried to enforce our way of life on them. Why? Because we respect the freedom of others.That is why my first vision is that of freedom. I believe that India got its first vision of this in 1857, when we started the War of Independence. It is this freedom that we must protect and nurture and build on. If we are not free, no one will respect us. My second vision for India’s development. For fifty years we have been a developing nation. It is time we see ourselves as a developed nation. We are among the top 5 nations of the world in terms of GDP. We have a 10 percent growth rate in most areas. Our poverty levels are falling. Our achievements are being globally recognised today. Yet we lack the self-confidence to see ourselves as a developed nation, self-reliant and self-assured. Isn’t this incorrect? I have a third vision. India must stand up to the world. Because I believe that unless India stands up to the world, no one will respect us. Only strength respects strength. We must be strong not only as a military power but also as an economic power. Both must go hand-in-hand. My good fortune was to have worked with three great minds. Dr. Vikram Sarabhai of the Dept. of space, Professor Satish Dhawan, who succeeded him and Dr. Brahm Prakash, father of nuclear material. I was lucky to have worked with all three of them closely and consider this the great opportunity of my life. I see four milestones in my career\n",
      "i have three visions for india. in 3000 years of our history, people from all over the world have come and invaded us, captured our lands, conquered our minds. from alexander onwards, the greeks, the turks, the moguls, the portuguese, the british, the french, the dutch, all of them came and looted us, took over what was ours. yet we have not done this to any other nation. we have not conquered anyone. we have not grabbed their land, their culture, their history and tried to enforce our way of life on them. why? because we respect the freedom of others.that is why my first vision is that of freedom. i believe that india got its first vision of this in 1857, when we started the war of independence. it is this freedom that we must protect and nurture and build on. if we are not free, no one will respect us. my second vision for india’s development. for fifty years we have been a developing nation. it is time we see ourselves as a developed nation. we are among the top 5 nations of the world in terms of gdp. we have a 10 percent growth rate in most areas. our poverty levels are falling. our achievements are being globally recognised today. yet we lack the self-confidence to see ourselves as a developed nation, self-reliant and self-assured. isn’t this incorrect? i have a third vision. india must stand up to the world. because i believe that unless india stands up to the world, no one will respect us. only strength respects strength. we must be strong not only as a military power but also as an economic power. both must go hand-in-hand. my good fortune was to have worked with three great minds. dr. vikram sarabhai of the dept. of space, professor satish dhawan, who succeeded him and dr. brahm prakash, father of nuclear material. i was lucky to have worked with all three of them closely and consider this the great opportunity of my life. i see four milestones in my career\n",
      "i have three visions for india. in      years of our history, people from all over the world have come and invaded us, captured our lands, conquered our minds. from alexander onwards, the greeks, the turks, the moguls, the portuguese, the british, the french, the dutch, all of them came and looted us, took over what was ours. yet we have not done this to any other nation. we have not conquered anyone. we have not grabbed their land, their culture, their history and tried to enforce our way of life on them. why? because we respect the freedom of others.that is why my first vision is that of freedom. i believe that india got its first vision of this in     , when we started the war of independence. it is this freedom that we must protect and nurture and build on. if we are not free, no one will respect us. my second vision for india’s development. for fifty years we have been a developing nation. it is time we see ourselves as a developed nation. we are among the top   nations of the world in terms of gdp. we have a    percent growth rate in most areas. our poverty levels are falling. our achievements are being globally recognised today. yet we lack the self-confidence to see ourselves as a developed nation, self-reliant and self-assured. isn’t this incorrect? i have a third vision. india must stand up to the world. because i believe that unless india stands up to the world, no one will respect us. only strength respects strength. we must be strong not only as a military power but also as an economic power. both must go hand-in-hand. my good fortune was to have worked with three great minds. dr. vikram sarabhai of the dept. of space, professor satish dhawan, who succeeded him and dr. brahm prakash, father of nuclear material. i was lucky to have worked with all three of them closely and consider this the great opportunity of my life. i see four milestones in my career\n",
      "i have three visions for india. in years of our history, people from all over the world have come and invaded us, captured our lands, conquered our minds. from alexander onwards, the greeks, the turks, the moguls, the portuguese, the british, the french, the dutch, all of them came and looted us, took over what was ours. yet we have not done this to any other nation. we have not conquered anyone. we have not grabbed their land, their culture, their history and tried to enforce our way of life on them. why? because we respect the freedom of others.that is why my first vision is that of freedom. i believe that india got its first vision of this in , when we started the war of independence. it is this freedom that we must protect and nurture and build on. if we are not free, no one will respect us. my second vision for india’s development. for fifty years we have been a developing nation. it is time we see ourselves as a developed nation. we are among the top nations of the world in terms of gdp. we have a percent growth rate in most areas. our poverty levels are falling. our achievements are being globally recognised today. yet we lack the self-confidence to see ourselves as a developed nation, self-reliant and self-assured. isn’t this incorrect? i have a third vision. india must stand up to the world. because i believe that unless india stands up to the world, no one will respect us. only strength respects strength. we must be strong not only as a military power but also as an economic power. both must go hand-in-hand. my good fortune was to have worked with three great minds. dr. vikram sarabhai of the dept. of space, professor satish dhawan, who succeeded him and dr. brahm prakash, father of nuclear material. i was lucky to have worked with all three of them closely and consider this the great opportunity of my life. i see four milestones in my career\n"
     ]
    }
   ],
   "source": [
    "# Preprocessing the data\n",
    "text = re.sub(r'\\[[0-9]*\\]',' ',paragraph)\n",
    "print(text)\n",
    "text = re.sub(r'\\s+',' ',text)\n",
    "print(text)\n",
    "\n",
    "text = text.lower()\n",
    "print(text)\n",
    "text = re.sub(r'\\d',' ',text)\n",
    "print(text)\n",
    "text = re.sub(r'\\s+',' ',text)\n",
    "print(text)"
   ]
  },
  {
   "cell_type": "code",
   "execution_count": 7,
   "metadata": {},
   "outputs": [],
   "source": [
    "# Preparing the dataset\n",
    "sentences = nltk.sent_tokenize(text)\n",
    "\n",
    "sentences = [nltk.word_tokenize(sentence) for sentence in sentences]"
   ]
  },
  {
   "cell_type": "code",
   "execution_count": 8,
   "metadata": {},
   "outputs": [],
   "source": [
    "for i in range(len(sentences)):\n",
    "    sentences[i] = [word for word in sentences[i] if word not in stopwords.words('english')]"
   ]
  },
  {
   "cell_type": "code",
   "execution_count": 10,
   "metadata": {
    "collapsed": true
   },
   "outputs": [
    {
     "data": {
      "text/plain": [
       "[['three', 'visions', 'india', '.'],\n",
       " ['years',\n",
       "  'history',\n",
       "  ',',\n",
       "  'people',\n",
       "  'world',\n",
       "  'come',\n",
       "  'invaded',\n",
       "  'us',\n",
       "  ',',\n",
       "  'captured',\n",
       "  'lands',\n",
       "  ',',\n",
       "  'conquered',\n",
       "  'minds',\n",
       "  '.'],\n",
       " ['alexander',\n",
       "  'onwards',\n",
       "  ',',\n",
       "  'greeks',\n",
       "  ',',\n",
       "  'turks',\n",
       "  ',',\n",
       "  'moguls',\n",
       "  ',',\n",
       "  'portuguese',\n",
       "  ',',\n",
       "  'british',\n",
       "  ',',\n",
       "  'french',\n",
       "  ',',\n",
       "  'dutch',\n",
       "  ',',\n",
       "  'came',\n",
       "  'looted',\n",
       "  'us',\n",
       "  ',',\n",
       "  'took',\n",
       "  '.'],\n",
       " ['yet', 'done', 'nation', '.'],\n",
       " ['conquered', 'anyone', '.'],\n",
       " ['grabbed',\n",
       "  'land',\n",
       "  ',',\n",
       "  'culture',\n",
       "  ',',\n",
       "  'history',\n",
       "  'tried',\n",
       "  'enforce',\n",
       "  'way',\n",
       "  'life',\n",
       "  '.'],\n",
       " ['?'],\n",
       " ['respect', 'freedom', 'others.that', 'first', 'vision', 'freedom', '.'],\n",
       " ['believe',\n",
       "  'india',\n",
       "  'got',\n",
       "  'first',\n",
       "  'vision',\n",
       "  ',',\n",
       "  'started',\n",
       "  'war',\n",
       "  'independence',\n",
       "  '.'],\n",
       " ['freedom', 'must', 'protect', 'nurture', 'build', '.'],\n",
       " ['free', ',', 'one', 'respect', 'us', '.'],\n",
       " ['second', 'vision', 'india', '’', 'development', '.'],\n",
       " ['fifty', 'years', 'developing', 'nation', '.'],\n",
       " ['time', 'see', 'developed', 'nation', '.'],\n",
       " ['among', 'top', 'nations', 'world', 'terms', 'gdp', '.'],\n",
       " ['percent', 'growth', 'rate', 'areas', '.'],\n",
       " ['poverty', 'levels', 'falling', '.'],\n",
       " ['achievements', 'globally', 'recognised', 'today', '.'],\n",
       " ['yet',\n",
       "  'lack',\n",
       "  'self-confidence',\n",
       "  'see',\n",
       "  'developed',\n",
       "  'nation',\n",
       "  ',',\n",
       "  'self-reliant',\n",
       "  'self-assured',\n",
       "  '.'],\n",
       " ['’', 'incorrect', '?'],\n",
       " ['third', 'vision', '.'],\n",
       " ['india', 'must', 'stand', 'world', '.'],\n",
       " ['believe',\n",
       "  'unless',\n",
       "  'india',\n",
       "  'stands',\n",
       "  'world',\n",
       "  ',',\n",
       "  'one',\n",
       "  'respect',\n",
       "  'us',\n",
       "  '.'],\n",
       " ['strength', 'respects', 'strength', '.'],\n",
       " ['must', 'strong', 'military', 'power', 'also', 'economic', 'power', '.'],\n",
       " ['must', 'go', 'hand-in-hand', '.'],\n",
       " ['good', 'fortune', 'worked', 'three', 'great', 'minds', '.'],\n",
       " ['dr.', 'vikram', 'sarabhai', 'dept', '.'],\n",
       " ['space',\n",
       "  ',',\n",
       "  'professor',\n",
       "  'satish',\n",
       "  'dhawan',\n",
       "  ',',\n",
       "  'succeeded',\n",
       "  'dr.',\n",
       "  'brahm',\n",
       "  'prakash',\n",
       "  ',',\n",
       "  'father',\n",
       "  'nuclear',\n",
       "  'material',\n",
       "  '.'],\n",
       " ['lucky',\n",
       "  'worked',\n",
       "  'three',\n",
       "  'closely',\n",
       "  'consider',\n",
       "  'great',\n",
       "  'opportunity',\n",
       "  'life',\n",
       "  '.'],\n",
       " ['see', 'four', 'milestones', 'career']]"
      ]
     },
     "execution_count": 10,
     "metadata": {},
     "output_type": "execute_result"
    }
   ],
   "source": [
    "sentences"
   ]
  },
  {
   "cell_type": "code",
   "execution_count": 30,
   "metadata": {},
   "outputs": [
    {
     "data": {
      "text/plain": [
       "<gensim.models.word2vec.Word2Vec at 0x2afba975668>"
      ]
     },
     "execution_count": 30,
     "metadata": {},
     "output_type": "execute_result"
    }
   ],
   "source": [
    "# Training the Word2Vec model\n",
    "Model = Word2Vec(sentences, min_count=1)\n",
    "Model"
   ]
  },
  {
   "cell_type": "code",
   "execution_count": 26,
   "metadata": {},
   "outputs": [
    {
     "data": {
      "text/plain": [
       "{'three': <gensim.models.keyedvectors.Vocab at 0x2afba5a8358>,\n",
       " 'visions': <gensim.models.keyedvectors.Vocab at 0x2afba5a8048>,\n",
       " 'india': <gensim.models.keyedvectors.Vocab at 0x2afba5a8198>,\n",
       " '.': <gensim.models.keyedvectors.Vocab at 0x2afba5a8128>,\n",
       " 'years': <gensim.models.keyedvectors.Vocab at 0x2afba5a8278>,\n",
       " 'history': <gensim.models.keyedvectors.Vocab at 0x2afba5a8160>,\n",
       " ',': <gensim.models.keyedvectors.Vocab at 0x2afba5a8208>,\n",
       " 'people': <gensim.models.keyedvectors.Vocab at 0x2afba5a8668>,\n",
       " 'world': <gensim.models.keyedvectors.Vocab at 0x2afba5a84a8>,\n",
       " 'come': <gensim.models.keyedvectors.Vocab at 0x2afba5a8780>,\n",
       " 'invaded': <gensim.models.keyedvectors.Vocab at 0x2afba5a8940>,\n",
       " 'us': <gensim.models.keyedvectors.Vocab at 0x2afba5a87f0>,\n",
       " 'captured': <gensim.models.keyedvectors.Vocab at 0x2afba5a8470>,\n",
       " 'lands': <gensim.models.keyedvectors.Vocab at 0x2afba5a8438>,\n",
       " 'conquered': <gensim.models.keyedvectors.Vocab at 0x2afba5a8b00>,\n",
       " 'minds': <gensim.models.keyedvectors.Vocab at 0x2afba5a8710>,\n",
       " 'alexander': <gensim.models.keyedvectors.Vocab at 0x2afba5a8a58>,\n",
       " 'onwards': <gensim.models.keyedvectors.Vocab at 0x2afba5a8da0>,\n",
       " 'greeks': <gensim.models.keyedvectors.Vocab at 0x2afba463b00>,\n",
       " 'turks': <gensim.models.keyedvectors.Vocab at 0x2afba463518>,\n",
       " 'moguls': <gensim.models.keyedvectors.Vocab at 0x2afba4634e0>,\n",
       " 'portuguese': <gensim.models.keyedvectors.Vocab at 0x2afba463748>,\n",
       " 'british': <gensim.models.keyedvectors.Vocab at 0x2afba463550>,\n",
       " 'french': <gensim.models.keyedvectors.Vocab at 0x2afba4636a0>,\n",
       " 'dutch': <gensim.models.keyedvectors.Vocab at 0x2afba463128>,\n",
       " 'came': <gensim.models.keyedvectors.Vocab at 0x2afba463080>,\n",
       " 'looted': <gensim.models.keyedvectors.Vocab at 0x2afba463320>,\n",
       " 'took': <gensim.models.keyedvectors.Vocab at 0x2afba4630f0>,\n",
       " 'yet': <gensim.models.keyedvectors.Vocab at 0x2afba463358>,\n",
       " 'done': <gensim.models.keyedvectors.Vocab at 0x2afba4632b0>,\n",
       " 'nation': <gensim.models.keyedvectors.Vocab at 0x2afba463278>,\n",
       " 'anyone': <gensim.models.keyedvectors.Vocab at 0x2afba4633c8>,\n",
       " 'grabbed': <gensim.models.keyedvectors.Vocab at 0x2afba463438>,\n",
       " 'land': <gensim.models.keyedvectors.Vocab at 0x2afba463668>,\n",
       " 'culture': <gensim.models.keyedvectors.Vocab at 0x2afba463860>,\n",
       " 'tried': <gensim.models.keyedvectors.Vocab at 0x2afba4630b8>,\n",
       " 'enforce': <gensim.models.keyedvectors.Vocab at 0x2afba463b70>,\n",
       " 'way': <gensim.models.keyedvectors.Vocab at 0x2afba4637b8>,\n",
       " 'life': <gensim.models.keyedvectors.Vocab at 0x2afba4634a8>,\n",
       " '?': <gensim.models.keyedvectors.Vocab at 0x2afba463470>,\n",
       " 'respect': <gensim.models.keyedvectors.Vocab at 0x2afba463780>,\n",
       " 'freedom': <gensim.models.keyedvectors.Vocab at 0x2afba4639e8>,\n",
       " 'others.that': <gensim.models.keyedvectors.Vocab at 0x2afba463a90>,\n",
       " 'first': <gensim.models.keyedvectors.Vocab at 0x2afba4639b0>,\n",
       " 'vision': <gensim.models.keyedvectors.Vocab at 0x2afba463828>,\n",
       " 'believe': <gensim.models.keyedvectors.Vocab at 0x2afba463400>,\n",
       " 'got': <gensim.models.keyedvectors.Vocab at 0x2afba463cf8>,\n",
       " 'started': <gensim.models.keyedvectors.Vocab at 0x2afba463630>,\n",
       " 'war': <gensim.models.keyedvectors.Vocab at 0x2afba4635c0>,\n",
       " 'independence': <gensim.models.keyedvectors.Vocab at 0x2afba5a70f0>,\n",
       " 'must': <gensim.models.keyedvectors.Vocab at 0x2afba5a7080>,\n",
       " 'protect': <gensim.models.keyedvectors.Vocab at 0x2afba5a7cc0>,\n",
       " 'nurture': <gensim.models.keyedvectors.Vocab at 0x2afba5a7748>,\n",
       " 'build': <gensim.models.keyedvectors.Vocab at 0x2afba5a7ef0>,\n",
       " 'free': <gensim.models.keyedvectors.Vocab at 0x2afba5a7400>,\n",
       " 'one': <gensim.models.keyedvectors.Vocab at 0x2afba5a7a90>,\n",
       " 'second': <gensim.models.keyedvectors.Vocab at 0x2afba5a7208>,\n",
       " '’': <gensim.models.keyedvectors.Vocab at 0x2afba5a7198>,\n",
       " 'development': <gensim.models.keyedvectors.Vocab at 0x2afba5a7240>,\n",
       " 'fifty': <gensim.models.keyedvectors.Vocab at 0x2afba5a7320>,\n",
       " 'developing': <gensim.models.keyedvectors.Vocab at 0x2afba5a7390>,\n",
       " 'time': <gensim.models.keyedvectors.Vocab at 0x2afba5a7470>,\n",
       " 'see': <gensim.models.keyedvectors.Vocab at 0x2afba5a7780>,\n",
       " 'developed': <gensim.models.keyedvectors.Vocab at 0x2afba5a7940>,\n",
       " 'among': <gensim.models.keyedvectors.Vocab at 0x2afba5a7a58>,\n",
       " 'top': <gensim.models.keyedvectors.Vocab at 0x2afba5a79b0>,\n",
       " 'nations': <gensim.models.keyedvectors.Vocab at 0x2afba5a7a20>,\n",
       " 'terms': <gensim.models.keyedvectors.Vocab at 0x2afba5a7b00>,\n",
       " 'gdp': <gensim.models.keyedvectors.Vocab at 0x2afba5a7da0>,\n",
       " 'percent': <gensim.models.keyedvectors.Vocab at 0x2afba5a7ba8>,\n",
       " 'growth': <gensim.models.keyedvectors.Vocab at 0x2afba5a7eb8>,\n",
       " 'rate': <gensim.models.keyedvectors.Vocab at 0x2afba5a7be0>,\n",
       " 'areas': <gensim.models.keyedvectors.Vocab at 0x2afba5a7fd0>,\n",
       " 'poverty': <gensim.models.keyedvectors.Vocab at 0x2afba5a7d30>,\n",
       " 'levels': <gensim.models.keyedvectors.Vocab at 0x2afba5a7668>,\n",
       " 'falling': <gensim.models.keyedvectors.Vocab at 0x2afba5a7cf8>,\n",
       " 'achievements': <gensim.models.keyedvectors.Vocab at 0x2afba5a75f8>,\n",
       " 'globally': <gensim.models.keyedvectors.Vocab at 0x2afba5a7c50>,\n",
       " 'recognised': <gensim.models.keyedvectors.Vocab at 0x2afba5a7f28>,\n",
       " 'today': <gensim.models.keyedvectors.Vocab at 0x2afba5a76d8>,\n",
       " 'lack': <gensim.models.keyedvectors.Vocab at 0x2afba5a74a8>,\n",
       " 'self-confidence': <gensim.models.keyedvectors.Vocab at 0x2afba5a7860>,\n",
       " 'self-reliant': <gensim.models.keyedvectors.Vocab at 0x2afba5a7898>,\n",
       " 'self-assured': <gensim.models.keyedvectors.Vocab at 0x2afba5a7518>,\n",
       " 'incorrect': <gensim.models.keyedvectors.Vocab at 0x2afba5a72e8>,\n",
       " 'third': <gensim.models.keyedvectors.Vocab at 0x2afba5a75c0>,\n",
       " 'stand': <gensim.models.keyedvectors.Vocab at 0x2afba5a4fd0>,\n",
       " 'unless': <gensim.models.keyedvectors.Vocab at 0x2afba5a4e10>,\n",
       " 'stands': <gensim.models.keyedvectors.Vocab at 0x2afba5a4da0>,\n",
       " 'strength': <gensim.models.keyedvectors.Vocab at 0x2afba5a47b8>,\n",
       " 'respects': <gensim.models.keyedvectors.Vocab at 0x2afba5a46a0>,\n",
       " 'strong': <gensim.models.keyedvectors.Vocab at 0x2afba5a4940>,\n",
       " 'military': <gensim.models.keyedvectors.Vocab at 0x2afba5a4668>,\n",
       " 'power': <gensim.models.keyedvectors.Vocab at 0x2afba5a4d68>,\n",
       " 'also': <gensim.models.keyedvectors.Vocab at 0x2afba5a4cc0>,\n",
       " 'economic': <gensim.models.keyedvectors.Vocab at 0x2afba5a4860>,\n",
       " 'go': <gensim.models.keyedvectors.Vocab at 0x2afba5a4dd8>,\n",
       " 'hand-in-hand': <gensim.models.keyedvectors.Vocab at 0x2afba5a4828>,\n",
       " 'good': <gensim.models.keyedvectors.Vocab at 0x2afba5a4a90>,\n",
       " 'fortune': <gensim.models.keyedvectors.Vocab at 0x2afba5a49b0>,\n",
       " 'worked': <gensim.models.keyedvectors.Vocab at 0x2afba5a4a20>,\n",
       " 'great': <gensim.models.keyedvectors.Vocab at 0x2afba5a4b70>,\n",
       " 'dr.': <gensim.models.keyedvectors.Vocab at 0x2afba5a4ba8>,\n",
       " 'vikram': <gensim.models.keyedvectors.Vocab at 0x2afba5a4be0>,\n",
       " 'sarabhai': <gensim.models.keyedvectors.Vocab at 0x2afba5a4c18>,\n",
       " 'dept': <gensim.models.keyedvectors.Vocab at 0x2afba5a4240>,\n",
       " 'space': <gensim.models.keyedvectors.Vocab at 0x2afba5a4588>,\n",
       " 'professor': <gensim.models.keyedvectors.Vocab at 0x2afba5a4358>,\n",
       " 'satish': <gensim.models.keyedvectors.Vocab at 0x2afba5a4278>,\n",
       " 'dhawan': <gensim.models.keyedvectors.Vocab at 0x2afba5a43c8>,\n",
       " 'succeeded': <gensim.models.keyedvectors.Vocab at 0x2afba5a4470>,\n",
       " 'brahm': <gensim.models.keyedvectors.Vocab at 0x2afba5a44e0>,\n",
       " 'prakash': <gensim.models.keyedvectors.Vocab at 0x2afba5a4390>,\n",
       " 'father': <gensim.models.keyedvectors.Vocab at 0x2afba5a4198>,\n",
       " 'nuclear': <gensim.models.keyedvectors.Vocab at 0x2afba5a49e8>,\n",
       " 'material': <gensim.models.keyedvectors.Vocab at 0x2afba5a4400>,\n",
       " 'lucky': <gensim.models.keyedvectors.Vocab at 0x2afba5a4748>,\n",
       " 'closely': <gensim.models.keyedvectors.Vocab at 0x2afba5a42b0>,\n",
       " 'consider': <gensim.models.keyedvectors.Vocab at 0x2afba5a48d0>,\n",
       " 'opportunity': <gensim.models.keyedvectors.Vocab at 0x2afba5a45f8>,\n",
       " 'four': <gensim.models.keyedvectors.Vocab at 0x2afba5a4eb8>,\n",
       " 'milestones': <gensim.models.keyedvectors.Vocab at 0x2afba5a4ef0>,\n",
       " 'career': <gensim.models.keyedvectors.Vocab at 0x2afba5a4cf8>}"
      ]
     },
     "execution_count": 26,
     "metadata": {},
     "output_type": "execute_result"
    }
   ],
   "source": [
    "words = model.wv.vocab\n",
    "words"
   ]
  },
  {
   "cell_type": "code",
   "execution_count": 12,
   "metadata": {},
   "outputs": [],
   "source": [
    "# Finding Word Vectors\n",
    "vector = model.wv['war']"
   ]
  },
  {
   "cell_type": "code",
   "execution_count": 13,
   "metadata": {},
   "outputs": [
    {
     "data": {
      "text/plain": [
       "array([-1.4176385e-03, -1.5795453e-03,  6.1093003e-04, -2.2575359e-03,\n",
       "        1.0170578e-03,  4.9683549e-03, -3.5628933e-03,  7.1521715e-04,\n",
       "        3.4340182e-03,  1.6849426e-03, -1.4487996e-03,  7.1431341e-04,\n",
       "       -9.0276398e-04,  4.5628059e-03, -7.3000141e-05, -3.4531651e-03,\n",
       "        4.6815644e-03, -5.2277919e-05, -6.5402559e-04, -2.6533343e-03,\n",
       "       -1.2083135e-03,  4.4176318e-03, -1.6525661e-03,  3.6785137e-03,\n",
       "        4.8572929e-03,  1.0515389e-03, -4.5051049e-03,  4.1477783e-03,\n",
       "       -3.2682065e-03, -1.4694702e-03, -6.8606558e-04, -5.5963366e-04,\n",
       "        2.0215739e-04, -2.8288117e-04, -2.1457269e-03, -2.8011170e-03,\n",
       "       -2.3908855e-03, -4.4964678e-03, -3.8061577e-03,  4.9187625e-03,\n",
       "        3.5930688e-03, -4.1134502e-03, -1.7669499e-03,  4.8712171e-03,\n",
       "       -6.4773078e-04, -9.1709389e-04,  6.6709548e-04,  1.3456924e-03,\n",
       "        1.1637420e-03, -1.5324340e-03, -1.4603476e-03,  4.3557435e-03,\n",
       "        3.7756434e-03, -4.1844212e-03, -2.2344510e-03, -1.7002068e-03,\n",
       "       -3.1177595e-03, -3.7032904e-03, -2.2436392e-03, -1.8791503e-03,\n",
       "        2.3235157e-03, -3.8479434e-04, -4.4809291e-03,  1.8771172e-03,\n",
       "       -1.9700439e-03, -4.0533426e-03, -8.0217014e-04,  2.2669556e-03,\n",
       "       -1.2154283e-03,  4.4857319e-03, -4.1336864e-03, -1.5546603e-03,\n",
       "       -5.4897636e-04,  4.3818578e-03, -4.1793059e-03,  2.4106284e-05,\n",
       "        2.1985362e-03,  1.7985621e-03, -2.9502634e-03,  3.8194906e-03,\n",
       "       -1.3388694e-03,  2.2264351e-03, -9.7981747e-04,  2.5896821e-04,\n",
       "        3.0541178e-03,  4.7138273e-03,  4.7908872e-03, -2.7584690e-03,\n",
       "        3.9763325e-03,  3.8637850e-03,  4.5500901e-03,  4.5672809e-03,\n",
       "       -2.3165355e-03,  4.5680082e-03, -7.7794009e-04,  3.0006756e-04,\n",
       "       -7.9897308e-04,  2.7197865e-03, -4.4670929e-03,  3.8729724e-03],\n",
       "      dtype=float32)"
      ]
     },
     "execution_count": 13,
     "metadata": {},
     "output_type": "execute_result"
    }
   ],
   "source": [
    "vector"
   ]
  },
  {
   "cell_type": "code",
   "execution_count": 24,
   "metadata": {},
   "outputs": [],
   "source": [
    "# Most similar words\n",
    "similar = model.wv.most_similar('vikram')"
   ]
  },
  {
   "cell_type": "code",
   "execution_count": 25,
   "metadata": {},
   "outputs": [
    {
     "data": {
      "text/plain": [
       "[('freedom', 0.21287527680397034),\n",
       " ('british', 0.20516833662986755),\n",
       " ('falling', 0.19884121417999268),\n",
       " ('good', 0.17131060361862183),\n",
       " ('strength', 0.1679747998714447),\n",
       " (',', 0.15234366059303284),\n",
       " ('third', 0.1520034521818161),\n",
       " ('father', 0.15177835524082184),\n",
       " ('recognised', 0.1387362778186798),\n",
       " ('stand', 0.12699265778064728)]"
      ]
     },
     "execution_count": 25,
     "metadata": {},
     "output_type": "execute_result"
    }
   ],
   "source": [
    "similar"
   ]
  },
  {
   "cell_type": "code",
   "execution_count": null,
   "metadata": {},
   "outputs": [],
   "source": []
  }
 ],
 "metadata": {
  "kernelspec": {
   "display_name": "Python 3",
   "language": "python",
   "name": "python3"
  },
  "language_info": {
   "codemirror_mode": {
    "name": "ipython",
    "version": 3
   },
   "file_extension": ".py",
   "mimetype": "text/x-python",
   "name": "python",
   "nbconvert_exporter": "python",
   "pygments_lexer": "ipython3",
   "version": "3.7.3"
  }
 },
 "nbformat": 4,
 "nbformat_minor": 2
}
